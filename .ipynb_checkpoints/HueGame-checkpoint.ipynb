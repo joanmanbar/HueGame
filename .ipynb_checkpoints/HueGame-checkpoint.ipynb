{
 "cells": [
  {
   "cell_type": "code",
   "execution_count": null,
   "id": "29b21863-171a-4979-a1a7-7c0ee2ba12ee",
   "metadata": {},
   "outputs": [],
   "source": [
    "from google.colab import drive\n",
    "drive.mount('/content/drive')"
   ]
  },
  {
   "cell_type": "code",
   "execution_count": 46,
   "id": "3462cc3b-5f4d-416d-8fb2-0af9602061b3",
   "metadata": {},
   "outputs": [],
   "source": [
    "import numpy as np\n",
    "import matplotlib.pyplot as plt\n",
    "import pandas as pd\n",
    "\n",
    "from matplotlib.patches import Rectangle\n",
    "import random\n",
    "from random import sample\n",
    "\n",
    "\n",
    "\n",
    "\n",
    "\n",
    "# Change the \"%matplotlib inline\" figure resolution on the notebook\n",
    "import matplotlib as mpl\n",
    "mpl.rcParams['figure.dpi']= 200"
   ]
  },
  {
   "cell_type": "markdown",
   "id": "3959c909-7442-4ba2-8ccc-8d9548c7b142",
   "metadata": {},
   "source": [
    "# Functions"
   ]
  },
  {
   "cell_type": "code",
   "execution_count": 26,
   "id": "d411ac81-912f-472a-818d-d1b20f8e710e",
   "metadata": {},
   "outputs": [],
   "source": [
    "#  Create board\n",
    "def Grid(n_points):\n",
    "\n",
    "    a = np.linspace(-5, 5, n_points)\n",
    "    b = np.linspace(-1.5, 1.5, n_points)\n",
    "    a, b = np.meshgrid(b, a)\n",
    "\n",
    "    z = a + b # Vectorize your cost function\n",
    "    \n",
    "    return z"
   ]
  },
  {
   "cell_type": "code",
   "execution_count": 28,
   "id": "e26586b8-c78f-4683-8a41-22d573714430",
   "metadata": {
    "tags": []
   },
   "outputs": [],
   "source": [
    "# Select random color \n",
    "def RandomColor(seed, n_points):\n",
    "\n",
    "    \n",
    "    Cols = ['A', 'B', 'C', 'D', 'E', 'F', 'G', 'H', 'I', 'J', 'K', 'L', 'M', 'N', 'O', 'P', 'Q', 'R', 'S', 'T', 'U', 'V', 'W', 'X', 'Y', 'Z']\n",
    "    Cols = Cols[:n_points]\n",
    "    \n",
    "    random.seed(seed)\n",
    "\n",
    "    TrueX = sample(range(n_points),1)\n",
    "    TrueX = TrueX[0] - 1\n",
    "    TrueY = sample(range(n_points),1)\n",
    "    TrueY = TrueY[0] - 1\n",
    "    \n",
    "    z = Grid(n_points)\n",
    "\n",
    "    fig, ax = plt.subplots()\n",
    "\n",
    "    # im = ax.pcolormesh(a, b, z, cmap='rainbow')\n",
    "    im = ax.imshow(z, cmap='rainbow')\n",
    "\n",
    "    # TrueX = 3-2\n",
    "    # TrueY = 5-2\n",
    "\n",
    "    ax.add_patch(Rectangle((TrueX+.5, TrueY+.5), 1, 1, fill=False, edgecolor='black', lw=3))\n",
    "\n",
    "    # Major ticks\n",
    "    ax.set_xticks(np.arange(0, n_points, 1))\n",
    "    ax.set_yticks(np.arange(0, n_points, 1))\n",
    "\n",
    "    # Minor ticks\n",
    "    ax.set_xticks(np.arange(-.5, n_points, 1), minor=True)\n",
    "    ax.set_yticks(np.arange(-.5, n_points, 1), minor=True)\n",
    "\n",
    "    ax.grid(which='minor', color='black', linestyle='-', linewidth=1)\n",
    "    \n",
    "    ax.set_xticklabels(Cols);\n",
    "\n",
    "    # ax.text(Cx, Cy, \"C\", ha=\"center\", va=\"center\", color=\"black\")\n",
    "    # ax.text(Jx, Jy, \"J\", ha=\"center\", va=\"center\", color=\"black\")\n",
    "\n",
    "\n",
    "    ax.set_title(\"Hue Game\")\n",
    "    fig.tight_layout()\n",
    "    plt.show()\n",
    "    \n",
    "    return z\n"
   ]
  },
  {
   "cell_type": "code",
   "execution_count": 29,
   "id": "c1710da0-0638-40be-b542-3b65b4f7cff6",
   "metadata": {},
   "outputs": [],
   "source": [
    "# Plot guesses \n",
    "def PlotGuess(seed, z, Players):\n",
    "\n",
    "    Cols = ['A', 'B', 'C', 'D', 'E', 'F', 'G', 'H', 'I', 'J', 'K', 'L', 'M', 'N', 'O', 'P', 'Q', 'R', 'S', 'T', 'U', 'V', 'W', 'X', 'Y', 'Z']\n",
    "    Cols = Cols[:n_points]\n",
    "    \n",
    "    \n",
    "    random.seed(seed)\n",
    "\n",
    "    TrueX = sample(range(n_points),1)\n",
    "    TrueX = TrueX[0] - 1\n",
    "    TrueY = sample(range(n_points),1)\n",
    "    TrueY = TrueY[0] - 1\n",
    "    \n",
    "#     z = Grid(n_points)\n",
    "\n",
    "    fig, ax = plt.subplots()\n",
    "\n",
    "    # im = ax.pcolormesh(a, b, z, cmap='rainbow')\n",
    "    im = ax.imshow(z, cmap='rainbow')\n",
    "\n",
    "    # TrueX = 3-2\n",
    "    # TrueY = 5-2\n",
    "\n",
    "    ax.add_patch(Rectangle((TrueX+.5, TrueY+.5), 1, 1, fill=False, edgecolor='black', lw=3))\n",
    "\n",
    "    # Major ticks\n",
    "    ax.set_xticks(np.arange(0, n_points, 1))\n",
    "    ax.set_yticks(np.arange(0, n_points, 1))\n",
    "\n",
    "    # Minor ticks\n",
    "    ax.set_xticks(np.arange(-.5, n_points, 1), minor=True)\n",
    "    ax.set_yticks(np.arange(-.5, n_points, 1), minor=True)\n",
    "\n",
    "    ax.grid(which='minor', color='black', linestyle='-', linewidth=1)\n",
    "    \n",
    "    ax.set_xticklabels(Cols);\n",
    "    \n",
    "    P1G = Players[0]\n",
    "    P2G = Players[1]\n",
    "    \n",
    "    ax.text(P1G[2], P1G[1], P1G[0], ha=\"center\", va=\"center\", color=\"black\")\n",
    "    ax.text(P2G[2], P2G[1], P2G[0], ha=\"center\", va=\"center\", color=\"black\")\n",
    "\n",
    "\n",
    "    ax.set_title(\"Hue Game\")\n",
    "    fig.tight_layout()\n",
    "    plt.show()\n",
    "    \n",
    "    return z"
   ]
  },
  {
   "cell_type": "code",
   "execution_count": 41,
   "id": "f75c0ae4-7390-40df-afff-4f8b437f203a",
   "metadata": {},
   "outputs": [],
   "source": [
    "def Map(seed,n_points):\n",
    "    \n",
    "    Cols = ['A', 'B', 'C', 'D', 'E', 'F', 'G', 'H', 'I', 'J', 'K', 'L', 'M', 'N', 'O', 'P', 'Q', 'R', 'S', 'T', 'U', 'V', 'W', 'X', 'Y', 'Z']\n",
    "    Cols = Cols[:n_points]\n",
    "    \n",
    "    random.seed(seed)\n",
    "\n",
    "#     TrueX = sample(range(n_points),1)\n",
    "#     TrueX = TrueX[0] - 1\n",
    "#     TrueY = sample(range(n_points),1)\n",
    "#     TrueY = TrueY[0] - 1\n",
    "    \n",
    "    z = Grid(n_points)\n",
    "\n",
    "    fig, ax = plt.subplots()\n",
    "\n",
    "    # im = ax.pcolormesh(a, b, z, cmap='rainbow')\n",
    "    im = ax.imshow(z, cmap='rainbow')\n",
    "\n",
    "    # TrueX = 3-2\n",
    "    # TrueY = 5-2\n",
    "\n",
    "#     ax.add_patch(Rectangle((TrueX+.5, TrueY+.5), 1, 1, fill=False, edgecolor='black', lw=3))\n",
    "\n",
    "    # Major ticks\n",
    "    ax.set_xticks(np.arange(0, n_points, 1))\n",
    "    ax.set_yticks(np.arange(0, n_points, 1))\n",
    "\n",
    "    # Minor ticks\n",
    "    ax.set_xticks(np.arange(-.5, n_points, 1), minor=True)\n",
    "    ax.set_yticks(np.arange(-.5, n_points, 1), minor=True)\n",
    "\n",
    "    ax.grid(which='minor', color='black', linestyle='-', linewidth=1)\n",
    "    \n",
    "    ax.set_xticklabels(Cols);\n",
    "\n",
    "    # ax.text(Cx, Cy, \"C\", ha=\"center\", va=\"center\", color=\"black\")\n",
    "    # ax.text(Jx, Jy, \"J\", ha=\"center\", va=\"center\", color=\"black\")\n",
    "\n",
    "\n",
    "    ax.set_title(\"Hue Game\")\n",
    "    fig.tight_layout()\n",
    "    plt.show()\n",
    "    \n",
    "#     return z"
   ]
  },
  {
   "cell_type": "code",
   "execution_count": null,
   "id": "dfb56427-173d-4b49-b60c-cfe0c8df701f",
   "metadata": {},
   "outputs": [],
   "source": []
  },
  {
   "cell_type": "code",
   "execution_count": null,
   "id": "5d78e34f-ca73-4f5c-a972-d1f50ceb5e68",
   "metadata": {},
   "outputs": [],
   "source": []
  },
  {
   "cell_type": "code",
   "execution_count": null,
   "id": "b9aff8d8-10e3-4c69-9d45-739f74d6ab11",
   "metadata": {},
   "outputs": [],
   "source": []
  },
  {
   "cell_type": "markdown",
   "id": "a0933b4f-02eb-4b5e-9004-b70425bbe917",
   "metadata": {},
   "source": [
    "# Play here!"
   ]
  },
  {
   "cell_type": "markdown",
   "id": "9149ae29-652e-491c-8d0d-92b842733562",
   "metadata": {},
   "source": [
    "## Select a random color"
   ]
  },
  {
   "cell_type": "code",
   "execution_count": 51,
   "id": "4de8322f-33a6-4123-9cf1-7bf0324789bb",
   "metadata": {
    "collapsed": true,
    "jupyter": {
     "outputs_hidden": true
    },
    "tags": []
   },
   "outputs": [
    {
     "data": {
      "image/png": "[encoded data removed]",
      "text/plain": [
       "<Figure size 1200x800 with 1 Axes>"
      ]
     },
     "metadata": {
      "needs_background": "light"
     },
     "output_type": "display_data"
    }
   ],
   "source": [
    "seed = 90\n",
    "n_points = 8\n",
    "\n",
    "z = RandomColor(seed=seed, n_points=n_points)"
   ]
  },
  {
   "cell_type": "markdown",
   "id": "51e6aabc-f999-48a0-9209-a33dfdc9befe",
   "metadata": {},
   "source": [
    "## Enter player's initials"
   ]
  },
  {
   "cell_type": "code",
   "execution_count": 52,
   "id": "d71862a0-db58-4675-80f6-090ff03aa208",
   "metadata": {},
   "outputs": [
    {
     "name": "stdin",
     "output_type": "stream",
     "text": [
      "Initials Player 1:  JB\n",
      "Initials Player 2:  JB\n"
     ]
    }
   ],
   "source": [
    "P1 = input(\"Initials Player 1: \")\n",
    "P2 = input(\"Initials Player 2: \")\n",
    "# P3 = input(\"Initials Player 3: \")\n",
    "# Player_4 = input(\"Player 4: \")\n",
    "# Player_5 = input(\"Player 5: \")"
   ]
  },
  {
   "cell_type": "markdown",
   "id": "c607d3a3-4c39-4a61-8bc7-63d8a6f9ab1c",
   "metadata": {},
   "source": [
    "## Guess"
   ]
  },
  {
   "cell_type": "code",
   "execution_count": 47,
   "id": "1624676c-02a0-4472-aff5-3f0f1626b901",
   "metadata": {},
   "outputs": [
    {
     "data": {
      "image/png": "[encoded data removed]",
      "text/plain": [
       "<Figure size 1200x800 with 1 Axes>"
      ]
     },
     "metadata": {
      "needs_background": "light"
     },
     "output_type": "display_data"
    }
   ],
   "source": [
    "Map(seed,n_points)"
   ]
  },
  {
   "cell_type": "code",
   "execution_count": 53,
   "id": "086ca674-b70b-4b79-b222-84f0c2d65f85",
   "metadata": {},
   "outputs": [
    {
     "name": "stdin",
     "output_type": "stream",
     "text": [
      "Player 1 - Guess 1: \n",
      "letter then number (no spaces):  E0\n",
      "Player 2 - Guess 1: \n",
      "letter then number (no spaces):  B2\n"
     ]
    }
   ],
   "source": [
    "P1G1 = input(\"Player 1 - Guess 1: \\nletter then number (no spaces): \")\n",
    "P2G1 = input(\"Player 2 - Guess 1: \\nletter then number (no spaces): \")\n",
    "\n",
    "P1G1y, P1G1x = ord(P1G1[0]) - 64 -1, int(P1G1[1:])  # substract 64 from ASCII\n",
    "P2G1y, P2G1x = ord(P2G1[0]) - 64 -1, int(P2G1[1:])  # substract 64 from ASCII\n",
    "\n",
    "P1G = [P1,P1G1x,P1G1y]\n",
    "P2G = [P2,P2G1x,P2G1y]\n",
    "\n",
    "Players = [P1G, P2G]"
   ]
  },
  {
   "cell_type": "markdown",
   "id": "00fd97dd-5d36-4c41-a45d-bac11c5b5abb",
   "metadata": {},
   "source": [
    "## Results"
   ]
  },
  {
   "cell_type": "code",
   "execution_count": 54,
   "id": "abed5424-ca31-4fa5-8806-0db8f5e83eb4",
   "metadata": {},
   "outputs": [
    {
     "data": {
      "image/png": "[encoded data removed]",
      "text/plain": [
       "<Figure size 1200x800 with 1 Axes>"
      ]
     },
     "metadata": {
      "needs_background": "light"
     },
     "output_type": "display_data"
    }
   ],
   "source": [
    "PlotGuess(seed=seed, z=z, Players=Players);"
   ]
  },
  {
   "cell_type": "code",
   "execution_count": 40,
   "id": "69b422e2-f65a-4df2-b9bb-bbe0fe22b5b0",
   "metadata": {},
   "outputs": [
    {
     "data": {
      "text/plain": [
       "196"
      ]
     },
     "execution_count": 40,
     "metadata": {},
     "output_type": "execute_result"
    }
   ],
   "source": [
    "len(np.unique(z))\n",
    "14*14\n"
   ]
  },
  {
   "cell_type": "code",
   "execution_count": null,
   "id": "a1f12ce6-7468-47a8-b0fb-7d678f9223e3",
   "metadata": {},
   "outputs": [],
   "source": []
  },
  {
   "cell_type": "code",
   "execution_count": null,
   "id": "b7dca458-ebcc-423a-bb99-01a07bb9f0f6",
   "metadata": {},
   "outputs": [],
   "source": []
  },
  {
   "cell_type": "code",
   "execution_count": null,
   "id": "d04ae568-2a69-4a31-9585-1aded2676d0d",
   "metadata": {},
   "outputs": [],
   "source": []
  },
  {
   "cell_type": "code",
   "execution_count": null,
   "id": "d6ca3c78-2695-49e5-ab4b-f0aa293b3031",
   "metadata": {},
   "outputs": [],
   "source": []
  },
  {
   "cell_type": "code",
   "execution_count": null,
   "id": "bdd9cebf-0369-423b-8fd6-452cda5761b0",
   "metadata": {},
   "outputs": [],
   "source": []
  }
 ],
 "metadata": {
  "kernelspec": {
   "display_name": "Python 3",
   "language": "python",
   "name": "python3"
  },
  "language_info": {
   "codemirror_mode": {
    "name": "ipython",
    "version": 3
   },
   "file_extension": ".py",
   "mimetype": "text/x-python",
   "name": "python",
   "nbconvert_exporter": "python",
   "pygments_lexer": "ipython3",
   "version": "3.8.8"
  },
  "toc-autonumbering": true
 },
 "nbformat": 4,
 "nbformat_minor": 5
}
